{
  "nbformat": 4,
  "nbformat_minor": 0,
  "metadata": {
    "colab": {
      "provenance": [],
      "authorship_tag": "ABX9TyMAjEOAMRMO7NeTJxSkncSw",
      "include_colab_link": true
    },
    "kernelspec": {
      "name": "python3",
      "display_name": "Python 3"
    },
    "language_info": {
      "name": "python"
    }
  },
  "cells": [
    {
      "cell_type": "markdown",
      "metadata": {
        "id": "view-in-github",
        "colab_type": "text"
      },
      "source": [
        "<a href=\"https://colab.research.google.com/github/adityajain2407/ref-dav-2/blob/main/ref_gaussian_distri.ipynb\" target=\"_parent\"><img src=\"https://colab.research.google.com/assets/colab-badge.svg\" alt=\"Open In Colab\"/></a>"
      ]
    },
    {
      "cell_type": "code",
      "execution_count": null,
      "metadata": {
        "id": "slWvzsbHFLXQ"
      },
      "outputs": [],
      "source": [
        "from scipy.stats import norm"
      ]
    },
    {
      "cell_type": "markdown",
      "source": [
        "The height of people is Gaussian with mean 65 inches and standard deviation 2.5 inches"
      ],
      "metadata": {
        "id": "PIKDMDxDbY2G"
      }
    },
    {
      "cell_type": "code",
      "source": [
        "#Fraction of people are shorter than 69.1\n",
        "\n",
        "z = (69.1 - 65)/2.5"
      ],
      "metadata": {
        "id": "1IlSRlvbbUXh"
      },
      "execution_count": null,
      "outputs": []
    },
    {
      "cell_type": "code",
      "source": [
        "z"
      ],
      "metadata": {
        "colab": {
          "base_uri": "https://localhost:8080/"
        },
        "id": "6DXk23Vdbh71",
        "outputId": "47717f1a-01f0-4f82-caf7-68e463e34645"
      },
      "execution_count": null,
      "outputs": [
        {
          "output_type": "execute_result",
          "data": {
            "text/plain": [
              "1.6399999999999977"
            ]
          },
          "metadata": {},
          "execution_count": 3
        }
      ]
    },
    {
      "cell_type": "code",
      "source": [
        "norm.cdf(z) #alternative to z-table --> gives the fraction of people shorter/lesser than given H: 69.1"
      ],
      "metadata": {
        "colab": {
          "base_uri": "https://localhost:8080/"
        },
        "id": "gJzCXtc0biWK",
        "outputId": "dede72e9-b51c-4c1e-fdcc-daa88ed01939"
      },
      "execution_count": null,
      "outputs": [
        {
          "output_type": "execute_result",
          "data": {
            "text/plain": [
              "0.949497416525896"
            ]
          },
          "metadata": {},
          "execution_count": 4
        }
      ]
    },
    {
      "cell_type": "code",
      "source": [
        "z = (70.8 - 65)/2.5\n",
        "\n",
        "norm.cdf(z)"
      ],
      "metadata": {
        "colab": {
          "base_uri": "https://localhost:8080/"
        },
        "id": "nQlA7EDtbp3-",
        "outputId": "ca6bc950-b049-4cb7-937b-f72180f8f826"
      },
      "execution_count": null,
      "outputs": [
        {
          "output_type": "execute_result",
          "data": {
            "text/plain": [
              "0.9898295613312803"
            ]
          },
          "metadata": {},
          "execution_count": 5
        }
      ]
    },
    {
      "cell_type": "markdown",
      "source": [
        "Balls produced by manufacturer have mean 50 mm and std dev 2 mm.\n",
        "What fraction of balls are smaller than 53 mm?"
      ],
      "metadata": {
        "id": "JMXkzsPgcCEi"
      }
    },
    {
      "cell_type": "markdown",
      "source": [],
      "metadata": {
        "id": "AIUSQBlucFDZ"
      }
    },
    {
      "cell_type": "code",
      "source": [
        "z = (53 - 50)/2\n",
        "norm.cdf(z)"
      ],
      "metadata": {
        "colab": {
          "base_uri": "https://localhost:8080/"
        },
        "id": "HIPuyTP5b3lT",
        "outputId": "092e7560-0617-40a5-924a-e8c4a6aaa499"
      },
      "execution_count": null,
      "outputs": [
        {
          "output_type": "execute_result",
          "data": {
            "text/plain": [
              "0.9331927987311419"
            ]
          },
          "metadata": {},
          "execution_count": 6
        }
      ]
    },
    {
      "cell_type": "code",
      "source": [
        "z = (68.5 - 65)/2.5\n",
        "norm.cdf(z)"
      ],
      "metadata": {
        "colab": {
          "base_uri": "https://localhost:8080/"
        },
        "id": "TlWkfEnXcHhu",
        "outputId": "8a74166d-20ba-4850-a4c9-1b7698aad8a7"
      },
      "execution_count": null,
      "outputs": [
        {
          "output_type": "execute_result",
          "data": {
            "text/plain": [
              "0.9192433407662289"
            ]
          },
          "metadata": {},
          "execution_count": 7
        }
      ]
    },
    {
      "cell_type": "markdown",
      "source": [
        "# Empirical Rule (68/95/99)"
      ],
      "metadata": {
        "id": "ZJtsW4_OcbVx"
      }
    },
    {
      "cell_type": "code",
      "source": [
        "norm.cdf(1)"
      ],
      "metadata": {
        "colab": {
          "base_uri": "https://localhost:8080/"
        },
        "id": "8RWBWX4PcUal",
        "outputId": "6acb5b1b-8ebe-4ecc-fd98-526a34d919d5"
      },
      "execution_count": null,
      "outputs": [
        {
          "output_type": "execute_result",
          "data": {
            "text/plain": [
              "0.8413447460685429"
            ]
          },
          "metadata": {},
          "execution_count": 8
        }
      ]
    },
    {
      "cell_type": "code",
      "source": [
        "norm.cdf(-1)"
      ],
      "metadata": {
        "colab": {
          "base_uri": "https://localhost:8080/"
        },
        "id": "RiLyutMWdMV5",
        "outputId": "04c3bd5c-8b74-483e-9d99-828bea091d62"
      },
      "execution_count": null,
      "outputs": [
        {
          "output_type": "execute_result",
          "data": {
            "text/plain": [
              "0.15865525393145707"
            ]
          },
          "metadata": {},
          "execution_count": 9
        }
      ]
    },
    {
      "cell_type": "code",
      "source": [
        "#fraction of people having height within 1 standard deviation from the mean\n",
        "norm.cdf(1) - norm.cdf(-1)"
      ],
      "metadata": {
        "colab": {
          "base_uri": "https://localhost:8080/"
        },
        "id": "w34Au5PGdmJP",
        "outputId": "84a32cd8-8a8d-4ad6-8145-c640da09b06a"
      },
      "execution_count": null,
      "outputs": [
        {
          "output_type": "execute_result",
          "data": {
            "text/plain": [
              "0.6826894921370859"
            ]
          },
          "metadata": {},
          "execution_count": 10
        }
      ]
    },
    {
      "cell_type": "code",
      "source": [
        "#fraction of people having height within 2 standard deviation from the mean\n",
        "norm.cdf(2) - norm.cdf(-2)"
      ],
      "metadata": {
        "colab": {
          "base_uri": "https://localhost:8080/"
        },
        "id": "Y7HnSFoJd2fT",
        "outputId": "93a0b4a5-41ea-4ed3-89e0-f988b69f3f3d"
      },
      "execution_count": null,
      "outputs": [
        {
          "output_type": "execute_result",
          "data": {
            "text/plain": [
              "0.9544997361036416"
            ]
          },
          "metadata": {},
          "execution_count": 11
        }
      ]
    },
    {
      "cell_type": "code",
      "source": [
        "#fraction of people having height within 3 standard deviation from the mean\n",
        "norm.cdf(3) - norm.cdf(-3)"
      ],
      "metadata": {
        "colab": {
          "base_uri": "https://localhost:8080/"
        },
        "id": "xUHigPD3eFLw",
        "outputId": "1465f4c3-9838-41e2-ab7c-d46d8ade6c4a"
      },
      "execution_count": null,
      "outputs": [
        {
          "output_type": "execute_result",
          "data": {
            "text/plain": [
              "0.9973002039367398"
            ]
          },
          "metadata": {},
          "execution_count": 12
        }
      ]
    },
    {
      "cell_type": "markdown",
      "source": [
        "The height of people is Gaussian with mean 65 inches and standard deviation 2.5 inches\n",
        "One person says:\n",
        "96% people are shorter than me. What is my height?"
      ],
      "metadata": {
        "id": "FEicHTjOe4Fu"
      }
    },
    {
      "cell_type": "markdown",
      "source": [
        "Percentile"
      ],
      "metadata": {
        "id": "3o7nkBfOfi6z"
      }
    },
    {
      "cell_type": "code",
      "source": [
        "z = norm.ppf(0.96)"
      ],
      "metadata": {
        "id": "65mi3uBDeLTi"
      },
      "execution_count": null,
      "outputs": []
    },
    {
      "cell_type": "code",
      "source": [
        "z"
      ],
      "metadata": {
        "colab": {
          "base_uri": "https://localhost:8080/"
        },
        "id": "_c6pdDKKfmRB",
        "outputId": "d1ccc58e-d758-4415-be64-86cb0f7a5d23"
      },
      "execution_count": null,
      "outputs": [
        {
          "output_type": "execute_result",
          "data": {
            "text/plain": [
              "1.7506860712521692"
            ]
          },
          "metadata": {},
          "execution_count": 14
        }
      ]
    },
    {
      "cell_type": "code",
      "source": [
        "height = 65 + z*2.5"
      ],
      "metadata": {
        "id": "Kp_SYLaSfpTE"
      },
      "execution_count": null,
      "outputs": []
    },
    {
      "cell_type": "code",
      "source": [
        "height"
      ],
      "metadata": {
        "id": "cIhpDfyEf1TP",
        "outputId": "d9f5add1-ba08-4f82-eb8e-bd940d658fec",
        "colab": {
          "base_uri": "https://localhost:8080/"
        }
      },
      "execution_count": null,
      "outputs": [
        {
          "output_type": "execute_result",
          "data": {
            "text/plain": [
              "69.37671517813042"
            ]
          },
          "metadata": {},
          "execution_count": 16
        }
      ]
    },
    {
      "cell_type": "code",
      "source": [
        "'''\n",
        "Skaters take a mean of 7.42 seconds and std dev of 0.34 seconds for 500 meters.\n",
        "What should his speed be such that he is faster than 95% of his competitors?\n",
        "'''"
      ],
      "metadata": {
        "id": "3cJVEz87f10g",
        "colab": {
          "base_uri": "https://localhost:8080/",
          "height": 53
        },
        "outputId": "43bd123e-8809-47ea-d6ce-4c2ce9f7642e"
      },
      "execution_count": null,
      "outputs": [
        {
          "output_type": "execute_result",
          "data": {
            "text/plain": [
              "'\\nSkaters take a mean of 7.42 seconds and std dev of 0.34 seconds for 500 meters.\\nWhat should his speed be such that he is faster than 95% of his competitors?\\n\\n'"
            ],
            "application/vnd.google.colaboratory.intrinsic+json": {
              "type": "string"
            }
          },
          "metadata": {},
          "execution_count": 17
        }
      ]
    },
    {
      "cell_type": "code",
      "source": [
        "z = norm.ppf(0.05)"
      ],
      "metadata": {
        "id": "zd3gmAjXfpn0"
      },
      "execution_count": null,
      "outputs": []
    },
    {
      "cell_type": "code",
      "source": [
        "t = 7.42 + z*0.34"
      ],
      "metadata": {
        "id": "Pp8G1A-2hUSb"
      },
      "execution_count": null,
      "outputs": []
    },
    {
      "cell_type": "code",
      "source": [
        "print(t)"
      ],
      "metadata": {
        "colab": {
          "base_uri": "https://localhost:8080/"
        },
        "id": "NCuVxWKxhajn",
        "outputId": "594c9d2a-7a4c-402a-b077-4bdeebbc91c7"
      },
      "execution_count": null,
      "outputs": [
        {
          "output_type": "stream",
          "name": "stdout",
          "text": [
            "6.860749766836499\n"
          ]
        }
      ]
    },
    {
      "cell_type": "code",
      "source": [
        "'''\n",
        "A retail outlet sells around 1000 toothpastes a week, with std dev = 200.\n",
        "If the on-hand inventory is 1300, what is the need for replenishment within the week?\n",
        "'''"
      ],
      "metadata": {
        "colab": {
          "base_uri": "https://localhost:8080/",
          "height": 53
        },
        "id": "3ms_6bIwhbik",
        "outputId": "e421c3f1-2cfa-4a49-96a4-154148581458"
      },
      "execution_count": null,
      "outputs": [
        {
          "output_type": "execute_result",
          "data": {
            "text/plain": [
              "'\\nA retail outlet sells around 1000 toothpastes a week, with std dev = 200. \\nIf the on-hand inventory is 1300, what is the need for replenishment within the week?\\n'"
            ],
            "application/vnd.google.colaboratory.intrinsic+json": {
              "type": "string"
            }
          },
          "metadata": {},
          "execution_count": 21
        }
      ]
    },
    {
      "cell_type": "code",
      "source": [
        "z = (1300 - 1000)/200"
      ],
      "metadata": {
        "id": "QwPnL-PmkXW1"
      },
      "execution_count": null,
      "outputs": []
    },
    {
      "cell_type": "code",
      "source": [
        "x = norm.cdf(z)"
      ],
      "metadata": {
        "id": "81KR6zvDlEpg"
      },
      "execution_count": null,
      "outputs": []
    },
    {
      "cell_type": "code",
      "source": [
        "print(x)"
      ],
      "metadata": {
        "colab": {
          "base_uri": "https://localhost:8080/"
        },
        "id": "1cQ7zPtplII5",
        "outputId": "5340faa6-acdd-47c1-ccca-4e3f7ebcc434"
      },
      "execution_count": null,
      "outputs": [
        {
          "output_type": "stream",
          "name": "stdout",
          "text": [
            "0.9331927987311419\n"
          ]
        }
      ]
    },
    {
      "cell_type": "code",
      "source": [
        "ans = 1 - x"
      ],
      "metadata": {
        "id": "_WBaNvmblIsC"
      },
      "execution_count": null,
      "outputs": []
    },
    {
      "cell_type": "code",
      "source": [
        "print(ans)"
      ],
      "metadata": {
        "colab": {
          "base_uri": "https://localhost:8080/"
        },
        "id": "HTfNMvcUl5RV",
        "outputId": "943a3dd2-8f1d-4228-e5fc-cf3798d47d44"
      },
      "execution_count": null,
      "outputs": [
        {
          "output_type": "stream",
          "name": "stdout",
          "text": [
            "0.06680720126885809\n"
          ]
        }
      ]
    },
    {
      "cell_type": "code",
      "source": [
        "#around 6% of the time the qty utilized will be more than 1300 -> there is a need to do replinesihment 6% of the times"
      ],
      "metadata": {
        "id": "3VHQa_OYl566"
      },
      "execution_count": null,
      "outputs": []
    },
    {
      "cell_type": "code",
      "source": [
        "#we want at most 3% of times to be out of stock. What should be my inventory?"
      ],
      "metadata": {
        "id": "hJ_oW434qJWd"
      },
      "execution_count": null,
      "outputs": []
    },
    {
      "cell_type": "code",
      "source": [
        "z = norm.ppf(0.97)"
      ],
      "metadata": {
        "id": "DyXSxHm8mSwv"
      },
      "execution_count": null,
      "outputs": []
    },
    {
      "cell_type": "code",
      "source": [
        "x = 1000 + z*200"
      ],
      "metadata": {
        "id": "YVQWZEg1p-ms"
      },
      "execution_count": null,
      "outputs": []
    },
    {
      "cell_type": "code",
      "source": [
        "print(x)"
      ],
      "metadata": {
        "colab": {
          "base_uri": "https://localhost:8080/"
        },
        "id": "Ws6XwqQ4qFyV",
        "outputId": "92626fe8-cf8e-42ea-afe0-ae6998d4433b"
      },
      "execution_count": null,
      "outputs": [
        {
          "output_type": "stream",
          "name": "stdout",
          "text": [
            "1376.15872163025\n"
          ]
        }
      ]
    },
    {
      "cell_type": "code",
      "source": [],
      "metadata": {
        "id": "svXu8rOyqGPC"
      },
      "execution_count": null,
      "outputs": []
    }
  ]
}